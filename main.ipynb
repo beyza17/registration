{
 "cells": [
  {
   "cell_type": "code",
   "execution_count": 1,
   "metadata": {},
   "outputs": [],
   "source": [
    "import numpy as np\n",
    "import pandas as pd\n",
    "import os\n",
    "import SimpleITK as sitk\n",
    "import subprocess\n",
    "from utils import get_landmark,register,transform,extract,process_fcsv_to_txt, extract_all_objects_mask, pad_and_save_images, add_rows_to_file,extract_output_points ,convert_to_fcsv_with_labels,extract_3d_coordinates, _compute_TRE"
   ]
  },
  {
   "cell_type": "markdown",
   "metadata": {},
   "source": [
    "# Initial Validation"
   ]
  },
  {
   "cell_type": "code",
   "execution_count": 2,
   "metadata": {},
   "outputs": [
    {
     "name": "stdout",
     "output_type": "stream",
     "text": [
      "Patient 09 TRE mean: 0.748 mm\n",
      "Patient 10 TRE mean: 0.917 mm\n",
      "Patient 11 TRE mean: 0.889 mm\n",
      "Patient 12 TRE mean: 0.919 mm\n",
      "Patient 13 TRE mean: 0.826 mm\n",
      "Patient 14 TRE mean: 1.101 mm\n",
      "Patient 15 TRE mean: 0.874 mm\n",
      "Patient 16 TRE mean: 1.062 mm\n",
      "Patient 17 TRE mean: 0.933 mm\n",
      "Patient 18 TRE mean: 0.822 mm\n",
      "Patient 19 TRE mean: 0.672 mm\n",
      "Patient 20 TRE mean: 0.746 mm\n"
     ]
    }
   ],
   "source": [
    "fixed_landmark=get_landmark(patient_num=\"08\")\n",
    "\n",
    "for patient_num in range(9,21):\n",
    "    if patient_num == 9:\n",
    "        patient_num = f\"0{patient_num}\"\n",
    "        moved_landmark = get_landmark(patient_num=patient_num)\n",
    "        TRE = _compute_TRE(fixed_landmark, moved_landmark)\n",
    "        TRE = round(TRE, 3)  # Restrict TRE to 3 decimal places\n",
    "        TRE = np.round(TRE, 3).tolist()  # Restrict TRE_mm to 3 decimal places\n",
    "        print(f'Patient {patient_num} TRE mean: {TRE} mm')\n",
    "    else:\n",
    "        moved_landmark = get_landmark(patient_num=patient_num)\n",
    "        TRE = _compute_TRE(fixed_landmark, moved_landmark)\n",
    "        TRE = round(TRE, 3)  # Restrict TRE to 3 decimal places\n",
    "        TRE = np.round(TRE, 3).tolist()  # Restrict TRE_mm to 3 decimal places\n",
    "        print(f'Patient {patient_num} TRE mean: {TRE} mm')"
   ]
  },
  {
   "cell_type": "markdown",
   "metadata": {},
   "source": [
    "# Registration"
   ]
  },
  {
   "cell_type": "code",
   "execution_count": 9,
   "metadata": {},
   "outputs": [
    {
     "name": "stdout",
     "output_type": "stream",
     "text": [
      "Mask of all objects (excluding label 0) saved to Training_data_2/cop1/data/NG4108_mask.nrrd\n",
      "Mask of all objects (excluding label 0) saved to Training_data_2/cop1/data/NG4120_mask.nrrd\n",
      "Registration completed for Patient 20. Outputs are in par/cop20\n"
     ]
    }
   ],
   "source": [
    "params_1 = f'parameters\\par33\\Par0033similarity.txt'\n",
    "params_2 = f'parameters\\par33\\Par0033bspline.txt'\n",
    "elastix_exe = r'D:\\uni\\Erasmus_Master\\University_of_Girona\\MIRA\\Lab2\\elastix-5.0.0-win64\\elastix.exe'\n",
    "\n",
    "patient_num = 8\n",
    "patient_num = f\"0{patient_num}\"\n",
    "mask_fixed, image_fixed,output_fixed= register(patient_num)\n",
    "\n",
    "for patient_num in range(9,21):\n",
    "    if patient_num == 9:\n",
    "        patient_num = f\"0{patient_num}\"\n",
    "        mask_moved, image_moved,output_moved= register(patient_num)\n",
    "        subprocess.run([\n",
    "        elastix_exe,\n",
    "        '-f', image_fixed,\n",
    "        '-m', image_moved,\n",
    "        '-fMask', mask_fixed,\n",
    "        # '-mMask', moved_seg,\n",
    "        '-p', params_1,\n",
    "        '-p', params_2,\n",
    "        '-out', output_moved\n",
    "    ])\n",
    "\n",
    "        print(f\"Registration completed for Patient {patient_num}. Outputs are in {output_moved}\")\n",
    "    else:\n",
    "        mask_moved, image_moved,output_moved= register(patient_num)\n",
    "        subprocess.run([\n",
    "        elastix_exe,\n",
    "        '-f', image_fixed,\n",
    "        '-m', image_moved,\n",
    "        '-fMask', mask_fixed,\n",
    "        # '-mMask', moved_seg,\n",
    "        '-p', params_1,\n",
    "        '-p', params_2,\n",
    "        '-out', output_moved\n",
    "    ])\n",
    "\n",
    "        print(f\"Registration completed for Patient {patient_num}. Outputs are in {output_moved}\")\n",
    "        "
   ]
  },
  {
   "cell_type": "code",
   "execution_count": 11,
   "metadata": {},
   "outputs": [
    {
     "name": "stdout",
     "output_type": "stream",
     "text": [
      "Updated file saved as: Training_data_2/cop1/data/NG4108_Fiducial_template_ALL_edited.txt\n",
      "Transformation completed for Patient 20. Outputs are in par/cop20/step2\n"
     ]
    }
   ],
   "source": [
    "transformix_exe = r'D:\\uni\\Erasmus_Master\\University_of_Girona\\MIRA\\Lab2\\elastix-5.0.0-win64\\transformix.exe'\n",
    "\n",
    "for patient_num in range(9,21):\n",
    "    if patient_num == 9:\n",
    "        patient_num = f\"0{patient_num}\"\n",
    "        edited_file_path, output_dir,transform_params= transform(patient_num)\n",
    "        subprocess.run([\n",
    "        transformix_exe,\n",
    "        '-def', edited_file_path,\n",
    "        '-out', output_dir,\n",
    "        '-tp', transform_params\n",
    "    ])\n",
    "\n",
    "        print(f\"Registration completed for Patient {patient_num}. Outputs are in {output_dir}\")\n",
    "    else:\n",
    "        edited_file_path, output_dir,transform_params= transform(patient_num)\n",
    "        subprocess.run([\n",
    "        transformix_exe,\n",
    "        '-def', edited_file_path,\n",
    "        '-out', output_dir,\n",
    "        '-tp', transform_params\n",
    "    ])\n",
    "\n",
    "        print(f\"Transformation completed for Patient {patient_num}. Outputs are in {output_dir}\")\n",
    "        "
   ]
  },
  {
   "cell_type": "code",
   "execution_count": 12,
   "metadata": {},
   "outputs": [
    {
     "name": "stdout",
     "output_type": "stream",
     "text": [
      "Patient 09 TRE mean: 0.379 mm\n",
      "Patient 10 TRE mean: 0.477 mm\n",
      "Patient 11 TRE mean: 0.648 mm\n",
      "Patient 12 TRE mean: 0.468 mm\n",
      "Patient 13 TRE mean: 0.43 mm\n",
      "Patient 14 TRE mean: 0.494 mm\n",
      "Patient 15 TRE mean: 0.388 mm\n",
      "Patient 16 TRE mean: 0.363 mm\n",
      "Patient 17 TRE mean: 0.291 mm\n",
      "Patient 18 TRE mean: 0.298 mm\n",
      "Patient 19 TRE mean: 0.453 mm\n",
      "Patient 20 TRE mean: 0.413 mm\n"
     ]
    }
   ],
   "source": [
    "for patient_num in range(9,21):\n",
    "    if patient_num == 9:\n",
    "        patient_num = f\"0{patient_num}\"\n",
    "        target_array_fixed, target_array_moved=extract(patient_num)\n",
    "        TRE = _compute_TRE(target_array_fixed, target_array_moved)\n",
    "        TRE = round(TRE, 3)  # Restrict TRE to 3 decimal places\n",
    "        TRE = np.round(TRE, 3).tolist()  # Restrict TRE_mm to 3 decimal places\n",
    "        print(f'Patient {patient_num} TRE mean: {TRE} mm')\n",
    "    else:\n",
    "        target_array_fixed, target_array_moved=extract(patient_num)\n",
    "        TRE = _compute_TRE(target_array_fixed, target_array_moved)\n",
    "        TRE = round(TRE, 3)  # Restrict TRE to 3 decimal places\n",
    "        TRE = np.round(TRE, 3).tolist()  # Restrict TRE_mm to 3 decimal places\n",
    "        print(f'Patient {patient_num} TRE mean: {TRE} mm')"
   ]
  }
 ],
 "metadata": {
  "kernelspec": {
   "display_name": "base",
   "language": "python",
   "name": "python3"
  },
  "language_info": {
   "codemirror_mode": {
    "name": "ipython",
    "version": 3
   },
   "file_extension": ".py",
   "mimetype": "text/x-python",
   "name": "python",
   "nbconvert_exporter": "python",
   "pygments_lexer": "ipython3",
   "version": "3.11.9"
  }
 },
 "nbformat": 4,
 "nbformat_minor": 2
}

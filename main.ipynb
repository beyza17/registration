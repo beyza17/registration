{
 "cells": [
  {
   "cell_type": "code",
   "execution_count": 1,
   "metadata": {},
   "outputs": [],
   "source": [
    "import numpy as np\n",
    "import pandas as pd\n",
    "import os\n",
    "import SimpleITK as sitk\n",
    "import subprocess\n",
    "from utils import get_landmark,register,transform,extract,process_fcsv_to_txt, extract_all_objects_mask, pad_and_save_images, add_rows_to_file,extract_output_points ,convert_to_fcsv_with_labels,extract_3d_coordinates, _compute_TRE"
   ]
  },
  {
   "cell_type": "markdown",
   "metadata": {},
   "source": [
    "# Initial Validation"
   ]
  },
  {
   "cell_type": "code",
   "execution_count": 2,
   "metadata": {},
   "outputs": [
    {
     "name": "stdout",
     "output_type": "stream",
     "text": [
      "Patient 09 TRE mean: 0.738 mm\n",
      "Patient 10 TRE mean: 0.894 mm\n",
      "Patient 11 TRE mean: 0.766 mm\n",
      "Patient 12 TRE mean: 0.849 mm\n",
      "Patient 13 TRE mean: 0.794 mm\n",
      "Skipping Patient 14 due to missing data or error: [Errno 2] No such file or directory: 'Training_data_4/cop1/data/NG4114_Fiducial_template_ALL.fcsv'\n",
      "Patient 15 TRE mean: 0.863 mm\n",
      "Patient 16 TRE mean: 1.02 mm\n",
      "Patient 17 TRE mean: 0.922 mm\n",
      "Patient 18 TRE mean: 0.822 mm\n",
      "Patient 19 TRE mean: 0.615 mm\n",
      "Patient 20 TRE mean: 0.745 mm\n"
     ]
    }
   ],
   "source": [
    "fixed_landmark=get_landmark(patient_num=\"08\")\n",
    "\n",
    "for patient_num in range(9,21):\n",
    "    try:\n",
    "        if patient_num == 9:\n",
    "            patient_num = f\"0{patient_num}\"\n",
    "            moved_landmark = get_landmark(patient_num=patient_num)\n",
    "            TRE = _compute_TRE(fixed_landmark, moved_landmark)\n",
    "            TRE = round(TRE, 3)  # Restrict TRE to 3 decimal places\n",
    "            TRE = np.round(TRE, 3).tolist()  # Restrict TRE_mm to 3 decimal places\n",
    "            print(f'Patient {patient_num} TRE mean: {TRE} mm')\n",
    "        else:\n",
    "            moved_landmark = get_landmark(patient_num=patient_num)\n",
    "            TRE = _compute_TRE(fixed_landmark, moved_landmark)\n",
    "            TRE = round(TRE, 3)  # Restrict TRE to 3 decimal places\n",
    "            TRE = np.round(TRE, 3).tolist()  # Restrict TRE_mm to 3 decimal places\n",
    "            print(f'Patient {patient_num} TRE mean: {TRE} mm')\n",
    "    except Exception as e:\n",
    "        print(f\"Skipping Patient {patient_num} due to missing data or error: {e}\")"
   ]
  },
  {
   "cell_type": "markdown",
   "metadata": {},
   "source": [
    "# Registration"
   ]
  },
  {
   "cell_type": "code",
   "execution_count": 3,
   "metadata": {},
   "outputs": [
    {
     "name": "stdout",
     "output_type": "stream",
     "text": [
      "Mask of all objects (excluding label 0) saved to Training_data_4/cop1/data/NG4108_mask.nrrd\n",
      "Mask of all objects (excluding label 0) saved to Training_data_4/cop1/data/NG4109_mask.nrrd\n",
      "Registration completed for Patient 09. Outputs are in par/cop09\n",
      "Mask of all objects (excluding label 0) saved to Training_data_4/cop1/data/NG4110_mask.nrrd\n",
      "Registration completed for Patient 10. Outputs are in par/cop10\n",
      "Mask of all objects (excluding label 0) saved to Training_data_4/cop1/data/NG4111_mask.nrrd\n",
      "Registration completed for Patient 11. Outputs are in par/cop11\n",
      "Mask of all objects (excluding label 0) saved to Training_data_4/cop1/data/NG4112_mask.nrrd\n",
      "Registration completed for Patient 12. Outputs are in par/cop12\n",
      "Mask of all objects (excluding label 0) saved to Training_data_4/cop1/data/NG4113_mask.nrrd\n",
      "Registration completed for Patient 13. Outputs are in par/cop13\n",
      "Skipping Patient 14 due to missing data or error: [Errno 2] No such file or directory: 'Training_data_4/cop1/data/NG4114_Segments.seg.nrrd'\n",
      "Mask of all objects (excluding label 0) saved to Training_data_4/cop1/data/NG4115_mask.nrrd\n",
      "Registration completed for Patient 15. Outputs are in par/cop15\n",
      "Mask of all objects (excluding label 0) saved to Training_data_4/cop1/data/NG4116_mask.nrrd\n",
      "Registration completed for Patient 16. Outputs are in par/cop16\n",
      "Mask of all objects (excluding label 0) saved to Training_data_4/cop1/data/NG4117_mask.nrrd\n",
      "Registration completed for Patient 17. Outputs are in par/cop17\n",
      "Mask of all objects (excluding label 0) saved to Training_data_4/cop1/data/NG4118_mask.nrrd\n",
      "Registration completed for Patient 18. Outputs are in par/cop18\n",
      "Mask of all objects (excluding label 0) saved to Training_data_4/cop1/data/NG4119_mask.nrrd\n",
      "Registration completed for Patient 19. Outputs are in par/cop19\n",
      "Mask of all objects (excluding label 0) saved to Training_data_4/cop1/data/NG4120_mask.nrrd\n",
      "Registration completed for Patient 20. Outputs are in par/cop20\n"
     ]
    }
   ],
   "source": [
    "params_1 = f'parameters\\par33\\Par0033similarity.txt'\n",
    "params_2 = f'parameters\\par33\\Par0033bspline.txt'\n",
    "elastix_exe = r'D:\\uni\\Erasmus_Master\\University_of_Girona\\MIRA\\Lab2\\elastix-5.0.0-win64\\elastix.exe'\n",
    "\n",
    "patient_num = 8\n",
    "patient_num = f\"0{patient_num}\"\n",
    "mask_fixed, image_fixed,output_fixed= register(patient_num)\n",
    "\n",
    "for patient_num in range(9,21):\n",
    "    try:\n",
    "        if patient_num == 9:\n",
    "            patient_num = f\"0{patient_num}\"\n",
    "            mask_moved, image_moved,output_moved= register(patient_num)\n",
    "            subprocess.run([\n",
    "            elastix_exe,\n",
    "            '-f', image_fixed,\n",
    "            '-m', image_moved,\n",
    "            '-fMask', mask_fixed,\n",
    "            # '-mMask', moved_seg,\n",
    "            '-p', params_1,\n",
    "            '-p', params_2,\n",
    "            '-out', output_moved\n",
    "        ])\n",
    "\n",
    "            print(f\"Registration completed for Patient {patient_num}. Outputs are in {output_moved}\")\n",
    "        else:\n",
    "            mask_moved, image_moved,output_moved= register(patient_num)\n",
    "            subprocess.run([\n",
    "            elastix_exe,\n",
    "            '-f', image_fixed,\n",
    "            '-m', image_moved,\n",
    "            '-fMask', mask_fixed,\n",
    "            # '-mMask', moved_seg,\n",
    "            '-p', params_1,\n",
    "            '-p', params_2,\n",
    "            '-out', output_moved\n",
    "        ])\n",
    "\n",
    "            print(f\"Registration completed for Patient {patient_num}. Outputs are in {output_moved}\")\n",
    "    \n",
    "    except Exception as e:\n",
    "        print(f\"Skipping Patient {patient_num} due to missing data or error: {e}\")    "
   ]
  },
  {
   "cell_type": "code",
   "execution_count": 4,
   "metadata": {},
   "outputs": [
    {
     "name": "stdout",
     "output_type": "stream",
     "text": [
      "Updated file saved as: Training_data_4/cop1/data/NG4108_Fiducial_template_ALL_edited.txt\n",
      "Registration completed for Patient 09. Outputs are in par/cop09/step2\n",
      "Updated file saved as: Training_data_4/cop1/data/NG4108_Fiducial_template_ALL_edited.txt\n",
      "Transformation completed for Patient 10. Outputs are in par/cop10/step2\n",
      "Updated file saved as: Training_data_4/cop1/data/NG4108_Fiducial_template_ALL_edited.txt\n",
      "Transformation completed for Patient 11. Outputs are in par/cop11/step2\n",
      "Updated file saved as: Training_data_4/cop1/data/NG4108_Fiducial_template_ALL_edited.txt\n",
      "Transformation completed for Patient 12. Outputs are in par/cop12/step2\n",
      "Updated file saved as: Training_data_4/cop1/data/NG4108_Fiducial_template_ALL_edited.txt\n",
      "Transformation completed for Patient 13. Outputs are in par/cop13/step2\n",
      "Updated file saved as: Training_data_4/cop1/data/NG4108_Fiducial_template_ALL_edited.txt\n",
      "Transformation completed for Patient 14. Outputs are in par/cop14/step2\n",
      "Updated file saved as: Training_data_4/cop1/data/NG4108_Fiducial_template_ALL_edited.txt\n",
      "Transformation completed for Patient 15. Outputs are in par/cop15/step2\n",
      "Updated file saved as: Training_data_4/cop1/data/NG4108_Fiducial_template_ALL_edited.txt\n",
      "Transformation completed for Patient 16. Outputs are in par/cop16/step2\n",
      "Updated file saved as: Training_data_4/cop1/data/NG4108_Fiducial_template_ALL_edited.txt\n",
      "Transformation completed for Patient 17. Outputs are in par/cop17/step2\n",
      "Updated file saved as: Training_data_4/cop1/data/NG4108_Fiducial_template_ALL_edited.txt\n",
      "Transformation completed for Patient 18. Outputs are in par/cop18/step2\n",
      "Updated file saved as: Training_data_4/cop1/data/NG4108_Fiducial_template_ALL_edited.txt\n",
      "Transformation completed for Patient 19. Outputs are in par/cop19/step2\n",
      "Updated file saved as: Training_data_4/cop1/data/NG4108_Fiducial_template_ALL_edited.txt\n",
      "Transformation completed for Patient 20. Outputs are in par/cop20/step2\n"
     ]
    }
   ],
   "source": [
    "transformix_exe = r'D:\\uni\\Erasmus_Master\\University_of_Girona\\MIRA\\Lab2\\elastix-5.0.0-win64\\transformix.exe'\n",
    "\n",
    "for patient_num in range(9,21):\n",
    "    try:\n",
    "        if patient_num == 9:\n",
    "            patient_num = f\"0{patient_num}\"\n",
    "            edited_file_path, output_dir,transform_params= transform(patient_num)\n",
    "            subprocess.run([\n",
    "            transformix_exe,\n",
    "            '-def', edited_file_path,\n",
    "            '-out', output_dir,\n",
    "            '-tp', transform_params\n",
    "        ])\n",
    "\n",
    "            print(f\"Registration completed for Patient {patient_num}. Outputs are in {output_dir}\")\n",
    "        else:\n",
    "            edited_file_path, output_dir,transform_params= transform(patient_num)\n",
    "            subprocess.run([\n",
    "            transformix_exe,\n",
    "            '-def', edited_file_path,\n",
    "            '-out', output_dir,\n",
    "            '-tp', transform_params\n",
    "        ])\n",
    "\n",
    "            print(f\"Transformation completed for Patient {patient_num}. Outputs are in {output_dir}\")\n",
    "    except Exception as e:\n",
    "        print(f\"Skipping Patient {patient_num} due to missing data or error: {e}\") \n",
    "        "
   ]
  },
  {
   "cell_type": "code",
   "execution_count": 5,
   "metadata": {},
   "outputs": [
    {
     "name": "stdout",
     "output_type": "stream",
     "text": [
      "Patient 09 TRE mean: 0.356 mm\n",
      "Patient 10 TRE mean: 0.454 mm\n",
      "Patient 11 TRE mean: 0.518 mm\n",
      "Patient 12 TRE mean: 0.405 mm\n",
      "Patient 13 TRE mean: 0.407 mm\n",
      "Skipping Patient 14 due to missing data or error: [Errno 2] No such file or directory: 'Training_data_4/cop1/data/NG4114_Fiducial_template_ALL.fcsv'\n",
      "Patient 15 TRE mean: 0.355 mm\n",
      "Patient 16 TRE mean: 0.313 mm\n",
      "Patient 17 TRE mean: 0.268 mm\n",
      "Patient 18 TRE mean: 0.298 mm\n",
      "Patient 19 TRE mean: 0.386 mm\n",
      "Patient 20 TRE mean: 0.413 mm\n"
     ]
    }
   ],
   "source": [
    "for patient_num in range(9,21):\n",
    "    try:\n",
    "        if patient_num == 9:\n",
    "            patient_num = f\"0{patient_num}\"\n",
    "            target_array_fixed, target_array_moved=extract(patient_num)\n",
    "            TRE = _compute_TRE(target_array_fixed, target_array_moved)\n",
    "            TRE = round(TRE, 3)  # Restrict TRE to 3 decimal places\n",
    "            TRE = np.round(TRE, 3).tolist()  # Restrict TRE_mm to 3 decimal places\n",
    "            print(f'Patient {patient_num} TRE mean: {TRE} mm')\n",
    "        else:\n",
    "            target_array_fixed, target_array_moved=extract(patient_num)\n",
    "            TRE = _compute_TRE(target_array_fixed, target_array_moved)\n",
    "            TRE = round(TRE, 3)  # Restrict TRE to 3 decimal places\n",
    "            TRE = np.round(TRE, 3).tolist()  # Restrict TRE_mm to 3 decimal places\n",
    "            print(f'Patient {patient_num} TRE mean: {TRE} mm')\n",
    "    except Exception as e:\n",
    "        print(f\"Skipping Patient {patient_num} due to missing data or error: {e}\") "
   ]
  }
 ],
 "metadata": {
  "kernelspec": {
   "display_name": "base",
   "language": "python",
   "name": "python3"
  },
  "language_info": {
   "codemirror_mode": {
    "name": "ipython",
    "version": 3
   },
   "file_extension": ".py",
   "mimetype": "text/x-python",
   "name": "python",
   "nbconvert_exporter": "python",
   "pygments_lexer": "ipython3",
   "version": "3.11.9"
  }
 },
 "nbformat": 4,
 "nbformat_minor": 2
}
